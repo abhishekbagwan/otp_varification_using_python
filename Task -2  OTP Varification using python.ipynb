{
 "cells": [
  {
   "cell_type": "markdown",
   "id": "166c36fd",
   "metadata": {},
   "source": [
    "<center>\n",
    "    <h1 style= \"background-color:purple; color:white; font-size:30px; font-weight:bold; font-family:Time New Roman; boder:2px solid black;\"> Task-2 -OTP Varification using Python </h1>\n",
    "    </center>\n"
   ]
  },
  {
   "cell_type": "markdown",
   "id": "bf38a39d",
   "metadata": {},
   "source": [
    "--> Objective: The primary objective of the \"OTP Verification using Email ID\" project is to develop a secure and user-friendly system that utilizes One-Time Password (OTP) verification to enhance the authentication process for various online services and applications. By integrating email communication and OTP generation"
   ]
  },
  {
   "cell_type": "code",
   "execution_count": null,
   "id": "b60a4232",
   "metadata": {},
   "outputs": [],
   "source": [
    "import random\n",
    "import smtplib\n",
    "\n",
    "\n",
    "def generate_otp():\n",
    "    return str(random.randint(100000, 999999))\n",
    "\n",
    "\n",
    "def send_email(email, otp):\n",
    "    smtp_server = \"smtp.example.com\"  # Replace with your SMTP server address\n",
    "    smtp_port = 587  # Replace with the appropriate SMTP port\n",
    "    sender_email = \"abhishekbagwan189@gmail.com \" # Replace with your email address\n",
    "    sender_password = \"9691449134 \"  # Replace with your email password\n",
    "    \n",
    "\n",
    "    subject = \"OTP Verification\"\n",
    "    message = f\"Your OTP is: {otp}\"\n",
    "\n",
    "    try:\n",
    "        server = smtplib.SMTP(smtp_server, smtp_port)\n",
    "        server.starttls()\n",
    "        server.login(sender_email, sender_password)\n",
    "        server.sendmail(sender_email, email, f\"Subject: {subject}\\n\\n{message}\")\n",
    "        server.quit()\n",
    "        print(\"OTP sent successfully!\")\n",
    "    except Exception as e:\n",
    "        print(\"Error sending OTP:\", str(e))\n",
    "\n",
    "def main():\n",
    "    otp = generate_otp()\n",
    "    email = input(\"Enter your email: \")\n",
    "\n",
    "    send_email(email, otp)\n",
    "    user_otp = input(\"Enter the OTP received: \")\n",
    "\n",
    "    if user_otp == otp:\n",
    "        print(\"OTP verification successful!\")\n",
    "    else:\n",
    "        print(\"OTP verification failed. Please try again.\")\n",
    "\n",
    "if __name__ == \"__main__\":\n",
    "    main()\n"
   ]
  },
  {
   "cell_type": "markdown",
   "id": "3b33a36e",
   "metadata": {},
   "source": [
    "   <center>\n",
    "    <h1 style= \"background-color:gray; color:black; font-size:30px; font-weight:bold; font-family:Time New Roman; boder:2px solid black;\"> THANK YOU </h1>\n",
    "    </center>\n"
   ]
  },
  {
   "cell_type": "code",
   "execution_count": null,
   "id": "7c62ff5d",
   "metadata": {},
   "outputs": [],
   "source": []
  }
 ],
 "metadata": {
  "kernelspec": {
   "display_name": "Python 3 (ipykernel)",
   "language": "python",
   "name": "python3"
  },
  "language_info": {
   "codemirror_mode": {
    "name": "ipython",
    "version": 3
   },
   "file_extension": ".py",
   "mimetype": "text/x-python",
   "name": "python",
   "nbconvert_exporter": "python",
   "pygments_lexer": "ipython3",
   "version": "3.9.13"
  }
 },
 "nbformat": 4,
 "nbformat_minor": 5
}
